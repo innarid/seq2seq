{
  "nbformat": 4,
  "nbformat_minor": 0,
  "metadata": {
    "colab": {
      "name": "seq2seq.ipynb",
      "version": "0.3.2",
      "provenance": [],
      "include_colab_link": true
    },
    "kernelspec": {
      "name": "python3",
      "display_name": "Python 3"
    },
    "accelerator": "GPU"
  },
  "cells": [
    {
      "cell_type": "markdown",
      "metadata": {
        "id": "view-in-github",
        "colab_type": "text"
      },
      "source": [
        "[View in Colaboratory](https://colab.research.google.com/github/innarid/seq2seq/blob/master/seq2seq.ipynb)"
      ]
    },
    {
      "metadata": {
        "id": "mj2uNuBo8pgK",
        "colab_type": "text"
      },
      "cell_type": "markdown",
      "source": [
        "# Learn to calculate with seq2seq model\n",
        "\n",
        "In this assignment, you will learn how to use neural networks to solve sequence-to-sequence prediction tasks. Seq2Seq models are very popular these days because they achieve great results in Machine Translation, Text Summarization, Conversational Modeling and more.\n",
        "\n",
        "Using sequence-to-sequence modeling you are going to build a calculator for evaluating arithmetic expressions, by taking an equation as an input to the neural network and producing an answer as it's output.\n",
        "\n",
        "The resulting solution for this problem will be based on state-of-the-art approaches for sequence-to-sequence learning and you should be able to easily adapt it to solve other tasks. However, if you want to train your own machine translation system or intellectual chat bot, it would be useful to have access to compute resources like GPU, and be patient, because training of such systems is usually time consuming. \n",
        "\n",
        "### Libraries\n",
        "\n",
        "For this task you will need the following libraries:\n",
        " - [TensorFlow](https://www.tensorflow.org) — an open-source software library for Machine Intelligence.\n",
        " - [scikit-learn](http://scikit-learn.org/stable/index.html) — a tool for data mining and data analysis.\n",
        " \n",
        "If you have never worked with TensorFlow, you will probably want to read some tutorials during your work on this assignment, e.g. [Neural Machine Translation](https://www.tensorflow.org/tutorials/seq2seq) tutorial deals with very similar task and can explain some concepts to you. "
      ]
    },
    {
      "metadata": {
        "id": "GYUO65eS8pgL",
        "colab_type": "text"
      },
      "cell_type": "markdown",
      "source": [
        "### Data\n",
        "\n",
        "One benefit of this task is that you don't need to download any data — you will generate it on your own! We will use two operators (addition and subtraction) and work with positive integer numbers in some range. Here are examples of correct inputs and outputs:\n",
        "\n",
        "    Input: '1+2'\n",
        "    Output: '3'\n",
        "    \n",
        "    Input: '0-99'\n",
        "    Output: '-99'\n",
        "\n",
        "*Note, that there are no spaces between operators and operands.*\n",
        "\n",
        "\n",
        "Now you need to implement the function *generate_equations*, which will be used to generate the data."
      ]
    },
    {
      "metadata": {
        "id": "inpfJbnM8pgL",
        "colab_type": "code",
        "colab": {}
      },
      "cell_type": "code",
      "source": [
        "import random"
      ],
      "execution_count": 0,
      "outputs": []
    },
    {
      "metadata": {
        "id": "w7bZ9S_H8pgP",
        "colab_type": "code",
        "colab": {}
      },
      "cell_type": "code",
      "source": [
        "def generate_equations(allowed_operators, dataset_size, min_value, max_value):\n",
        "    \"\"\"Generates pairs of equations and solutions to them.\n",
        "    \n",
        "       Each equation has a form of two integers with an operator in between.\n",
        "       Each solution is an integer with the result of the operaion.\n",
        "    \n",
        "        allowed_operators: list of strings, allowed operators.\n",
        "        dataset_size: an integer, number of equations to be generated.\n",
        "        min_value: an integer, min value of each operand.\n",
        "        max_value: an integer, max value of each operand.\n",
        "\n",
        "        result: a list of tuples of strings (equation, solution).\n",
        "    \"\"\"\n",
        "    sample = []\n",
        "    for _ in range(dataset_size):\n",
        "        a = random.randint(min_value,max_value)\n",
        "        b = random.randint(min_value,max_value)\n",
        "        equation = str(a)+random.choice(allowed_operators)+str(b)\n",
        "        sample.append((equation,str(eval(equation))))\n",
        "    return sample"
      ],
      "execution_count": 0,
      "outputs": []
    },
    {
      "metadata": {
        "id": "FX-2qpbd8pgS",
        "colab_type": "text"
      },
      "cell_type": "markdown",
      "source": [
        "To check the correctness of your implementation, use *test_generate_equations* function:"
      ]
    },
    {
      "metadata": {
        "id": "OklbNUHA8pgT",
        "colab_type": "code",
        "colab": {}
      },
      "cell_type": "code",
      "source": [
        "def test_generate_equations():\n",
        "    allowed_operators = ['+', '-']\n",
        "    dataset_size = 10\n",
        "    for (input_, output_) in generate_equations(allowed_operators, dataset_size, 0, 100):\n",
        "        if not (type(input_) is str and type(output_) is str):\n",
        "            return \"Both parts should be strings.\"\n",
        "        if eval(input_) != int(output_):\n",
        "            return \"The (equation: {!r}, solution: {!r}) pair is incorrect.\".format(input_, output_)\n",
        "    return \"Tests passed.\""
      ],
      "execution_count": 0,
      "outputs": []
    },
    {
      "metadata": {
        "id": "eV0DZjfr8pgU",
        "colab_type": "code",
        "colab": {
          "base_uri": "https://localhost:8080/",
          "height": 187
        },
        "outputId": "162d48aa-8b4e-4379-b74f-12d140af7a80"
      },
      "cell_type": "code",
      "source": [
        "generate_equations(['+', '-'], 10, 0, 100)"
      ],
      "execution_count": 0,
      "outputs": [
        {
          "output_type": "execute_result",
          "data": {
            "text/plain": [
              "[('84+89', '173'),\n",
              " ('91+95', '186'),\n",
              " ('67+85', '152'),\n",
              " ('69+34', '103'),\n",
              " ('76+4', '80'),\n",
              " ('45-11', '34'),\n",
              " ('70+14', '84'),\n",
              " ('59+30', '89'),\n",
              " ('100-52', '48'),\n",
              " ('58+66', '124')]"
            ]
          },
          "metadata": {
            "tags": []
          },
          "execution_count": 15
        }
      ]
    },
    {
      "metadata": {
        "id": "JdUv3YtP8pga",
        "colab_type": "code",
        "colab": {
          "base_uri": "https://localhost:8080/",
          "height": 34
        },
        "outputId": "850ecbd9-065f-41b2-961f-c40b5b84ca0c"
      },
      "cell_type": "code",
      "source": [
        "print(test_generate_equations())"
      ],
      "execution_count": 0,
      "outputs": [
        {
          "output_type": "stream",
          "text": [
            "Tests passed.\n"
          ],
          "name": "stdout"
        }
      ]
    },
    {
      "metadata": {
        "id": "xPrmpB2Y8pgd",
        "colab_type": "text"
      },
      "cell_type": "markdown",
      "source": [
        "Finally, we are ready to generate the train and test data for the neural network:"
      ]
    },
    {
      "metadata": {
        "id": "MkLhapxF8pge",
        "colab_type": "code",
        "colab": {}
      },
      "cell_type": "code",
      "source": [
        "from sklearn.model_selection import train_test_split"
      ],
      "execution_count": 0,
      "outputs": []
    },
    {
      "metadata": {
        "id": "ZIU_F9ug8pgj",
        "colab_type": "code",
        "colab": {}
      },
      "cell_type": "code",
      "source": [
        "allowed_operators = ['+', '-']\n",
        "dataset_size = 100000\n",
        "data = generate_equations(allowed_operators, dataset_size, min_value=0, max_value=9999)\n",
        "\n",
        "train_set, test_set = train_test_split(data, test_size=0.2, random_state=42)"
      ],
      "execution_count": 0,
      "outputs": []
    },
    {
      "metadata": {
        "id": "pGyfecje8pgl",
        "colab_type": "text"
      },
      "cell_type": "markdown",
      "source": [
        "## Prepare data for the neural network\n",
        "\n",
        "The next stage of data preparation is creating mappings of the characters to their indices in some vocabulary. Since in our task we already know which symbols will appear in the inputs and outputs, generating the vocabulary is a simple step.\n",
        "\n",
        "#### How to create dictionaries for other task\n",
        "\n",
        "First of all, you need to understand what is the basic unit of the sequence in your task. In our case, we operate on symbols and the basic unit is a symbol. The number of symbols is small, so we don't need to think about filtering/normalization steps. However, in other tasks, the basic unit is often a word, and in this case the mapping would be *word $\\to$ integer*. The number of words might be huge, so it would be reasonable to filter them, for example, by frequency and leave only the frequent ones. Other strategies that your should consider are: data normalization (lowercasing, tokenization, how to consider punctuation marks), separate vocabulary for input and for output (e.g. for machine translation), some specifics of the task."
      ]
    },
    {
      "metadata": {
        "id": "E-RVvsW98pgl",
        "colab_type": "code",
        "colab": {}
      },
      "cell_type": "code",
      "source": [
        "word2id = {symbol:i for i, symbol in enumerate('#^$+-1234567890')}\n",
        "id2word = {i:symbol for symbol, i in word2id.items()}"
      ],
      "execution_count": 0,
      "outputs": []
    },
    {
      "metadata": {
        "id": "mhyL47Gd8pgo",
        "colab_type": "code",
        "colab": {
          "base_uri": "https://localhost:8080/",
          "height": 51
        },
        "outputId": "f8c7620d-eec1-49c9-daee-3014255b411c"
      },
      "cell_type": "code",
      "source": [
        "word2id.keys(),word2id.values()"
      ],
      "execution_count": 0,
      "outputs": [
        {
          "output_type": "execute_result",
          "data": {
            "text/plain": [
              "(dict_keys(['#', '^', '$', '+', '-', '1', '2', '3', '4', '5', '6', '7', '8', '9', '0']),\n",
              " dict_values([0, 1, 2, 3, 4, 5, 6, 7, 8, 9, 10, 11, 12, 13, 14]))"
            ]
          },
          "metadata": {
            "tags": []
          },
          "execution_count": 20
        }
      ]
    },
    {
      "metadata": {
        "id": "lRP3nvsK8pgs",
        "colab_type": "text"
      },
      "cell_type": "markdown",
      "source": [
        "#### Special symbols"
      ]
    },
    {
      "metadata": {
        "id": "AG4ZG1dm8pgs",
        "colab_type": "code",
        "colab": {}
      },
      "cell_type": "code",
      "source": [
        "start_symbol = '^'\n",
        "end_symbol = '$'\n",
        "padding_symbol = '#'"
      ],
      "execution_count": 0,
      "outputs": []
    },
    {
      "metadata": {
        "id": "d_4o6aVs8pgv",
        "colab_type": "text"
      },
      "cell_type": "markdown",
      "source": [
        "You could notice that we have added 3 special symbols: '^', '\\$' and '#':\n",
        "- '^' symbol will be passed to the network to indicate the beginning of the decoding procedure. We will discuss this one later in more details.\n",
        "- '\\$' symbol will be used to indicate the *end of a string*, both for input and output sequences. \n",
        "- '#' symbol will be used as a *padding* character to make lengths of all strings equal within one training batch.\n",
        "\n",
        "People have a bit different habits when it comes to special symbols in encoder-decoder networks, so don't get too much confused if you come across other variants in tutorials you read. "
      ]
    },
    {
      "metadata": {
        "id": "BYb02Lo48pgw",
        "colab_type": "text"
      },
      "cell_type": "markdown",
      "source": [
        "#### Padding"
      ]
    },
    {
      "metadata": {
        "id": "5Cc2J-ju8pgx",
        "colab_type": "text"
      },
      "cell_type": "markdown",
      "source": [
        "When vocabularies are ready, we need to be able to convert a sentence to a list of vocabulary word indices and back. At the same time, let's care about padding. We are going to preprocess each sequence from the input (and output ground truth) in such a way that:\n",
        "- it has a predefined length *padded_len*\n",
        "- it is probably cut off or padded with the *padding symbol* '#'\n",
        "- it *always* ends with the *end symbol* '$'\n",
        "\n",
        "We will treat the original characters of the sequence **and the end symbol** as the valid part of the input. We will store *the actual length* of the sequence, which includes the end symbol, but does not include the padding symbols. "
      ]
    },
    {
      "metadata": {
        "id": "LTKBjhzv8pgy",
        "colab_type": "text"
      },
      "cell_type": "markdown",
      "source": [
        " Now you need to implement the function *sentence_to_ids* that does the described job. "
      ]
    },
    {
      "metadata": {
        "id": "cZ-XH9Oa8pgz",
        "colab_type": "code",
        "colab": {}
      },
      "cell_type": "code",
      "source": [
        "def sentence_to_ids(sentence, word2id, padded_len):\n",
        "    \"\"\" Converts a sequence of symbols to a padded sequence of their ids.\n",
        "    \n",
        "      sentence: a string, input/output sequence of symbols.\n",
        "      word2id: a dict, a mapping from original symbols to ids.\n",
        "      padded_len: an integer, a desirable length of the sequence.\n",
        "\n",
        "      result: a tuple of (a list of ids, an actual length of sentence).\n",
        "    \"\"\"\n",
        "    \n",
        "    sent_ids = [word2id[sentence[i]] if (len(sentence) > i and i < padded_len - 1) else \\\n",
        "                (word2id['$'] if (len(sentence) == i or (len(sentence) >= padded_len and i == padded_len - 1))\\\n",
        "                 else word2id['#']) for i in range(padded_len)]\n",
        "    \n",
        "    sent_len = len(sentence) + 1 if len(sentence) < padded_len else padded_len\n",
        "    \n",
        "    return sent_ids, sent_len"
      ],
      "execution_count": 0,
      "outputs": []
    },
    {
      "metadata": {
        "id": "2wTvOnxJ8pg2",
        "colab_type": "text"
      },
      "cell_type": "markdown",
      "source": [
        "Check that your implementation is correct:"
      ]
    },
    {
      "metadata": {
        "id": "PtLomk0l8pg3",
        "colab_type": "code",
        "colab": {}
      },
      "cell_type": "code",
      "source": [
        "def test_sentence_to_ids():\n",
        "    sentences = [(\"123+123\", 7), (\"123+123\", 8), (\"123+123\", 10)]\n",
        "    expected_output = [([5, 6, 7, 3, 5, 6, 2], 7), \n",
        "                       ([5, 6, 7, 3, 5, 6, 7, 2], 8), \n",
        "                       ([5, 6, 7, 3, 5, 6, 7, 2, 0, 0], 8)] \n",
        "    for (sentence, padded_len), (sentence_ids, expected_length) in zip(sentences, expected_output):\n",
        "        output, length = sentence_to_ids(sentence, word2id, padded_len)\n",
        "        if output != sentence_ids:\n",
        "            return(\"Convertion of '{}' for padded_len={} to {} is incorrect.\".format(\n",
        "                sentence, padded_len, output))\n",
        "        if length != expected_length:\n",
        "            return(\"Convertion of '{}' for padded_len={} has incorrect actual length {}.\".format(\n",
        "                sentence, padded_len, length))\n",
        "    return(\"Tests passed.\")"
      ],
      "execution_count": 0,
      "outputs": []
    },
    {
      "metadata": {
        "id": "tfaJSrv18pg6",
        "colab_type": "code",
        "colab": {
          "base_uri": "https://localhost:8080/",
          "height": 34
        },
        "outputId": "ea93267a-09f2-4923-a12f-e023eed9ef52"
      },
      "cell_type": "code",
      "source": [
        "print(test_sentence_to_ids())"
      ],
      "execution_count": 0,
      "outputs": [
        {
          "output_type": "stream",
          "text": [
            "Tests passed.\n"
          ],
          "name": "stdout"
        }
      ]
    },
    {
      "metadata": {
        "id": "FzMvu3rs8pg9",
        "colab_type": "text"
      },
      "cell_type": "markdown",
      "source": [
        "We also need to be able to get back from indices to symbols:"
      ]
    },
    {
      "metadata": {
        "id": "iGFCStnu8pg_",
        "colab_type": "code",
        "colab": {}
      },
      "cell_type": "code",
      "source": [
        "def ids_to_sentence(ids, id2word):\n",
        "    \"\"\" Converts a sequence of ids to a sequence of symbols.\n",
        "    \n",
        "          ids: a list, indices for the padded sequence.\n",
        "          id2word:  a dict, a mapping from ids to original symbols.\n",
        "\n",
        "          result: a list of symbols.\n",
        "    \"\"\"\n",
        " \n",
        "    return [id2word[i] for i in ids] "
      ],
      "execution_count": 0,
      "outputs": []
    },
    {
      "metadata": {
        "id": "TO9_TXZ38phC",
        "colab_type": "text"
      },
      "cell_type": "markdown",
      "source": [
        "#### Generating batches"
      ]
    },
    {
      "metadata": {
        "id": "7g6F04WI8phD",
        "colab_type": "text"
      },
      "cell_type": "markdown",
      "source": [
        "The final step of data preparation is a function that transforms a batch of sentences to a list of lists of indices. "
      ]
    },
    {
      "metadata": {
        "id": "7MmuGSqE8phE",
        "colab_type": "code",
        "colab": {}
      },
      "cell_type": "code",
      "source": [
        "def batch_to_ids(sentences, word2id, max_len):\n",
        "    \"\"\"Prepares batches of indices. \n",
        "    \n",
        "       Sequences are padded to match the longest sequence in the batch,\n",
        "       if it's longer than max_len, then max_len is used instead.\n",
        "\n",
        "        sentences: a list of strings, original sequences.\n",
        "        word2id: a dict, a mapping from original symbols to ids.\n",
        "        max_len: an integer, max len of sequences allowed.\n",
        "\n",
        "        result: a list of lists of ids, a list of actual lengths.\n",
        "    \"\"\"\n",
        "    \n",
        "    max_len_in_batch = min(max(len(s) for s in sentences) + 1, max_len)\n",
        "    batch_ids, batch_ids_len = [], []\n",
        "    for sentence in sentences:\n",
        "        ids, ids_len = sentence_to_ids(sentence, word2id, max_len_in_batch)\n",
        "        batch_ids.append(ids)\n",
        "        batch_ids_len.append(ids_len)\n",
        "    return batch_ids, batch_ids_len"
      ],
      "execution_count": 0,
      "outputs": []
    },
    {
      "metadata": {
        "id": "b1s9uY3q8phG",
        "colab_type": "text"
      },
      "cell_type": "markdown",
      "source": [
        "The function *generate_batches* will help to generate batches with defined size from given samples."
      ]
    },
    {
      "metadata": {
        "id": "hBHHGRVa8phH",
        "colab_type": "code",
        "colab": {}
      },
      "cell_type": "code",
      "source": [
        "def generate_batches(samples, batch_size=64):\n",
        "    X, Y = [], []\n",
        "    for i, (x, y) in enumerate(samples, 1):\n",
        "        X.append(x)\n",
        "        Y.append(y)\n",
        "        if i % batch_size == 0:\n",
        "            yield X, Y\n",
        "            X, Y = [], []\n",
        "    if X and Y:\n",
        "        yield X, Y"
      ],
      "execution_count": 0,
      "outputs": []
    },
    {
      "metadata": {
        "id": "RKYQM5oB8phK",
        "colab_type": "text"
      },
      "cell_type": "markdown",
      "source": [
        "To illustrate the result of the implemented functions, run the following cell:"
      ]
    },
    {
      "metadata": {
        "id": "54sPNtjJ8phK",
        "colab_type": "code",
        "colab": {
          "base_uri": "https://localhost:8080/",
          "height": 68
        },
        "outputId": "5e1a425e-18e2-47af-9333-601e5a0dc249"
      },
      "cell_type": "code",
      "source": [
        "sentences = train_set[0]\n",
        "ids, sent_lens = batch_to_ids(sentences, word2id, max_len=10)\n",
        "print('Input:', sentences)\n",
        "print('Ids: {}\\nSentences lengths: {}'.format(ids, sent_lens))"
      ],
      "execution_count": 0,
      "outputs": [
        {
          "output_type": "stream",
          "text": [
            "Input: ('4053-3384', '669')\n",
            "Ids: [[8, 14, 9, 7, 4, 7, 7, 12, 8, 2], [10, 10, 13, 2, 0, 0, 0, 0, 0, 0]]\n",
            "Sentences lengths: [10, 4]\n"
          ],
          "name": "stdout"
        }
      ]
    },
    {
      "metadata": {
        "id": "qSMQeI-08phP",
        "colab_type": "text"
      },
      "cell_type": "markdown",
      "source": [
        "## Encoder-Decoder architecture\n",
        "\n",
        "Encoder-Decoder is a successful architecture for Seq2Seq tasks with different lengths of input and output sequences. The main idea is to use two recurrent neural networks, where the first neural network *encodes* the input sequence into a real-valued vector and then the second neural network *decodes* this vector into the output sequence. While building the neural network, we will specify some particular characteristics of this architecture."
      ]
    },
    {
      "metadata": {
        "id": "_Vy3ZvSi8phQ",
        "colab_type": "code",
        "colab": {}
      },
      "cell_type": "code",
      "source": [
        "import tensorflow as tf"
      ],
      "execution_count": 0,
      "outputs": []
    },
    {
      "metadata": {
        "id": "zp3HkCxr9PRs",
        "colab_type": "code",
        "colab": {
          "base_uri": "https://localhost:8080/",
          "height": 34
        },
        "outputId": "7c2c8709-bc2b-48b0-89b9-7b44df6f2647"
      },
      "cell_type": "code",
      "source": [
        "tf.__version__"
      ],
      "execution_count": 0,
      "outputs": [
        {
          "output_type": "execute_result",
          "data": {
            "text/plain": [
              "'1.11.0'"
            ]
          },
          "metadata": {
            "tags": []
          },
          "execution_count": 34
        }
      ]
    },
    {
      "metadata": {
        "id": "M_u5JMtp8phS",
        "colab_type": "text"
      },
      "cell_type": "markdown",
      "source": [
        "Let us use TensorFlow building blocks to specify the network architecture."
      ]
    },
    {
      "metadata": {
        "id": "10K9EHNd8phS",
        "colab_type": "code",
        "colab": {}
      },
      "cell_type": "code",
      "source": [
        "class Seq2SeqModel(object):\n",
        "    pass"
      ],
      "execution_count": 0,
      "outputs": []
    },
    {
      "metadata": {
        "id": "waka8-K98phU",
        "colab_type": "text"
      },
      "cell_type": "markdown",
      "source": [
        "First, we need to create [placeholders](https://www.tensorflow.org/api_guides/python/io_ops#Placeholders) to specify what data we are going to feed into the network during the execution time. For this task we will need:\n",
        " - *input_batch* — sequences of sentences (the shape will equal to [batch_size, max_sequence_len_in_batch]);\n",
        " - *input_batch_lengths* — lengths of not padded sequences (the shape equals to [batch_size]);\n",
        " - *ground_truth* — sequences of groundtruth (the shape will equal to [batch_size, max_sequence_len_in_batch]);\n",
        " - *ground_truth_lengths* — lengths of not padded groundtruth sequences (the shape equals to [batch_size]);\n",
        " - *dropout_ph* — dropout keep probability; this placeholder has a predifined value 1;\n",
        " - *learning_rate_ph* — learning rate."
      ]
    },
    {
      "metadata": {
        "id": "rv9P8n9O8phV",
        "colab_type": "code",
        "colab": {}
      },
      "cell_type": "code",
      "source": [
        "def declare_placeholders(self):\n",
        "    \"\"\"Specifies placeholders for the model.\"\"\"\n",
        "    \n",
        "    # Placeholders for input and its actual lengths.\n",
        "    self.input_batch = tf.placeholder(shape=(None, None), dtype=tf.int32, name='input_batch')\n",
        "    self.input_batch_lengths = tf.placeholder(shape=(None, ), dtype=tf.int32, name='input_batch_lengths')\n",
        "    \n",
        "    # Placeholders for groundtruth and its actual lengths.\n",
        "    self.ground_truth = tf.placeholder(shape=(None, None), dtype=tf.int32, name='ground_truth')\n",
        "    self.ground_truth_lengths = tf.placeholder(shape=(None, ), dtype=tf.int32, name='ground_truth_lengths')\n",
        "        \n",
        "    self.dropout_ph = tf.placeholder_with_default(tf.cast(1.0, tf.float32), shape=[])\n",
        "    self.learning_rate_ph = tf.placeholder_with_default(tf.cast(0.01, tf.float32), shape=[])"
      ],
      "execution_count": 0,
      "outputs": []
    },
    {
      "metadata": {
        "id": "mrYHhqzG8phX",
        "colab_type": "code",
        "colab": {}
      },
      "cell_type": "code",
      "source": [
        "Seq2SeqModel.__declare_placeholders = classmethod(declare_placeholders)"
      ],
      "execution_count": 0,
      "outputs": []
    },
    {
      "metadata": {
        "id": "UQZ9z50j8phZ",
        "colab_type": "text"
      },
      "cell_type": "markdown",
      "source": [
        "Now, let us specify the layers of the neural network. First, we need to prepare an embedding matrix. Since we use the same vocabulary for input and output, we need only one such matrix. For tasks with different vocabularies there would be multiple embedding layers.\n",
        "- Create embeddings matrix with [tf.Variable](https://www.tensorflow.org/api_docs/python/tf/Variable). Specify its name, type (tf.float32), and initialize with random values.\n",
        "- Perform [embeddings lookup](https://www.tensorflow.org/api_docs/python/tf/nn/embedding_lookup) for a given input batch."
      ]
    },
    {
      "metadata": {
        "id": "pJ30Pvtf8pha",
        "colab_type": "code",
        "colab": {}
      },
      "cell_type": "code",
      "source": [
        "def create_embeddings(self, vocab_size, embeddings_size):\n",
        "    \"\"\"Specifies embeddings layer and embeds an input batch.\"\"\"\n",
        "     \n",
        "    random_initializer = tf.random_uniform((vocab_size, embeddings_size), -1.0, 1.0)\n",
        "    self.embeddings = tf.Variable(random_initializer, name='embeddings')\n",
        "    \n",
        "    # Perform embeddings lookup for self.input_batch. \n",
        "    self.input_batch_embedded = tf.nn.embedding_lookup(self.embeddings, self.input_batch)"
      ],
      "execution_count": 0,
      "outputs": []
    },
    {
      "metadata": {
        "id": "nRrgbMWH8phc",
        "colab_type": "code",
        "colab": {}
      },
      "cell_type": "code",
      "source": [
        "Seq2SeqModel.__create_embeddings = classmethod(create_embeddings)"
      ],
      "execution_count": 0,
      "outputs": []
    },
    {
      "metadata": {
        "id": "4XOk30Xd8phe",
        "colab_type": "text"
      },
      "cell_type": "markdown",
      "source": [
        "#### Encoder\n",
        "\n",
        "The first RNN of the current architecture is called an *encoder* and serves for encoding an input sequence to a real-valued vector. Input of this RNN is an embedded input batch. Since sentences in the same batch could have different actual lengths, we also provide input lengths to avoid unnecessary computations. The final encoder state will be passed to the second RNN (decoder), which we will create soon. \n",
        "\n",
        "- TensorFlow provides a number of [RNN cells](https://www.tensorflow.org/api_guides/python/contrib.rnn#Core_RNN_Cells_for_use_with_TensorFlow_s_core_RNN_methods) ready for use. We suggest that you use [GRU cell](https://www.tensorflow.org/api_docs/python/tf/contrib/rnn/GRUCell), but you can also experiment with other types. \n",
        "- Wrap your cells with [DropoutWrapper](https://www.tensorflow.org/api_docs/python/tf/contrib/rnn/DropoutWrapper). Dropout is an important regularization technique for neural networks. Specify input keep probability using the dropout placeholder that we created before.\n",
        "- Combine the defined encoder cells with [Dynamic RNN](https://www.tensorflow.org/api_docs/python/tf/nn/dynamic_rnn). Use the embedded input batches and their lengths here.\n",
        "- Use *dtype=tf.float32* everywhere."
      ]
    },
    {
      "metadata": {
        "id": "eZ6LisTk8phg",
        "colab_type": "code",
        "colab": {}
      },
      "cell_type": "code",
      "source": [
        "def build_encoder(self, hidden_size):\n",
        "    \"\"\"Specifies encoder architecture and computes its output.\"\"\"\n",
        "    \n",
        "    # Create GRUCell with dropout.\n",
        "    encoder_cell = tf.nn.rnn_cell.DropoutWrapper(tf.nn.rnn_cell.GRUCell(hidden_size), \n",
        "                                                 output_keep_prob=self.dropout_ph)\n",
        "    \n",
        "    # Create RNN with the predefined cell.\n",
        "    _, self.final_encoder_state = tf.nn.dynamic_rnn(encoder_cell, self.input_batch_embedded, dtype=tf.float32)"
      ],
      "execution_count": 0,
      "outputs": []
    },
    {
      "metadata": {
        "id": "CcDZk0ry8phi",
        "colab_type": "code",
        "colab": {}
      },
      "cell_type": "code",
      "source": [
        "Seq2SeqModel.__build_encoder = classmethod(build_encoder)"
      ],
      "execution_count": 0,
      "outputs": []
    },
    {
      "metadata": {
        "id": "9pQIsL8P8phk",
        "colab_type": "text"
      },
      "cell_type": "markdown",
      "source": [
        "#### Decoder\n",
        "\n",
        "The second RNN is called a *decoder* and serves for generating the output sequence. In the simple seq2seq arcitecture, the input sequence is provided to the decoder only as the final state of the encoder. Obviously, it is a bottleneck and [Attention techniques](https://www.tensorflow.org/tutorials/seq2seq#background_on_the_attention_mechanism) can help to overcome it. So far, we do not need them to make our calculator work, but this would be a necessary ingredient for more advanced tasks. \n",
        "\n",
        "During training, decoder also uses information about the true output. It is feeded in as input symbol by symbol. However, during the prediction stage (which is called *inference* in this architecture), the decoder can only use its own generated output from the previous step to feed it in at the next step. Because of this difference (*training* vs *inference*), we will create two distinct instances, which will serve for the described scenarios.\n",
        "\n",
        "The picture below illustrates the point. It also shows our work with the special characters, e.g. look how the start symbol `^` is used. The transparent parts are ignored. In decoder, it is masked out in the loss computation. In encoder, the green state is considered as final and passed to the decoder. "
      ]
    },
    {
      "metadata": {
        "id": "fBcJhDdZ8phl",
        "colab_type": "text"
      },
      "cell_type": "markdown",
      "source": [
        "<img src=\"encoder-decoder-pic.png\" style=\"width: 500px;\">"
      ]
    },
    {
      "metadata": {
        "id": "yhiT6KFb8phl",
        "colab_type": "text"
      },
      "cell_type": "markdown",
      "source": [
        "Now, it's time to implement the decoder:\n",
        " - First, we should create two [helpers](https://www.tensorflow.org/api_guides/python/contrib.seq2seq#Dynamic_Decoding). These classes help to determine the behaviour of the decoder. During the training time, we will use [TrainingHelper](https://www.tensorflow.org/api_docs/python/tf/contrib/seq2seq/TrainingHelper). For the inference we recommend to use [GreedyEmbeddingHelper](https://www.tensorflow.org/api_docs/python/tf/contrib/seq2seq/GreedyEmbeddingHelper).\n",
        " - To share all parameters during training and inference, we use one scope and set the flag 'reuse' to True at inference time. You might be interested to know more about how [variable scopes](https://www.tensorflow.org/programmers_guide/variables) work in TF. \n",
        " - To create the decoder itself, we will use [BasicDecoder](https://www.tensorflow.org/api_docs/python/tf/contrib/seq2seq/BasicDecoder) class. As previously, you should choose some RNN cell, e.g. GRU cell. To turn hidden states into logits, we will need a projection layer. One of the simple solutions is using [OutputProjectionWrapper](https://www.tensorflow.org/api_docs/python/tf/contrib/rnn/OutputProjectionWrapper).\n",
        " - For getting the predictions, it will be convinient to use [dynamic_decode](https://www.tensorflow.org/api_docs/python/tf/contrib/seq2seq/dynamic_decode). This function uses the provided decoder to perform decoding."
      ]
    },
    {
      "metadata": {
        "id": "sd68TpFy8phn",
        "colab_type": "code",
        "colab": {}
      },
      "cell_type": "code",
      "source": [
        "def build_decoder(self, hidden_size, vocab_size, max_iter, start_symbol_id, end_symbol_id):\n",
        "    \"\"\"Specifies decoder architecture and computes the output.\n",
        "    \n",
        "        Uses different helpers:\n",
        "          - for train: feeding ground truth\n",
        "          - for inference: feeding generated output\n",
        "\n",
        "        As a result, self.train_outputs and self.infer_outputs are created. \n",
        "        Each of them contains two fields:\n",
        "          rnn_output (predicted logits)\n",
        "          sample_id (predictions).\n",
        "\n",
        "    \"\"\"\n",
        "    \n",
        "    # Use start symbols as the decoder inputs at the first time step.\n",
        "    batch_size = tf.shape(self.input_batch)[0]\n",
        "    start_tokens = tf.fill([batch_size], start_symbol_id)\n",
        "    ground_truth_as_input = tf.concat([tf.expand_dims(start_tokens, 1), self.ground_truth],1)\n",
        "    \n",
        "    # Use the embedding layer defined before to lookup embedings for ground_truth_as_input. \n",
        "    self.ground_truth_embedded =  tf.nn.embedding_lookup(self.embeddings, ground_truth_as_input)\n",
        "     \n",
        "    # Create TrainingHelper for the train stage.\n",
        "    train_helper = tf.contrib.seq2seq.TrainingHelper(self.ground_truth_embedded, \n",
        "                                                     self.ground_truth_lengths)\n",
        "    \n",
        "    # Create GreedyEmbeddingHelper for the inference stage.\n",
        "    # You should provide the embedding layer, start_tokens and index of the end symbol.\n",
        "    infer_helper = tf.contrib.seq2seq.GreedyEmbeddingHelper(self.embeddings, start_tokens, end_symbol_id)\n",
        "    \n",
        "  \n",
        "    def decode(helper, scope, reuse=None):\n",
        "        \"\"\"Creates decoder and return the results of the decoding with a given helper.\"\"\"\n",
        "        \n",
        "        with tf.variable_scope(scope, reuse=reuse):\n",
        "            # Create GRUCell with dropout. Do not forget to set the reuse flag properly.\n",
        "            decoder_cell =  tf.nn.rnn_cell.DropoutWrapper(tf.nn.rnn_cell.GRUCell(hidden_size, reuse=reuse), \n",
        "                                                          output_keep_prob=self.dropout_ph)\n",
        "            \n",
        "            # Create a projection wrapper.\n",
        "            decoder_cell = tf.contrib.rnn.OutputProjectionWrapper(decoder_cell, vocab_size, reuse=reuse)\n",
        "            \n",
        "            # Create BasicDecoder, pass the defined cell, a helper, and initial state.\n",
        "            # The initial state should be equal to the final state of the encoder!\n",
        "            decoder = tf.contrib.seq2seq.BasicDecoder(decoder_cell, helper, self.final_encoder_state)\n",
        "            \n",
        "            # The first returning argument of dynamic_decode contains two fields:\n",
        "            #   rnn_output (predicted logits)\n",
        "            #   sample_id (predictions)\n",
        "            outputs, _, _ = tf.contrib.seq2seq.dynamic_decode(decoder=decoder, maximum_iterations=max_iter, \n",
        "                                                              output_time_major=False, impute_finished=True)\n",
        "\n",
        "            return outputs\n",
        "    \n",
        "    self.train_outputs = decode(train_helper, 'decode')\n",
        "    self.infer_outputs = decode(infer_helper, 'decode', reuse=True)"
      ],
      "execution_count": 0,
      "outputs": []
    },
    {
      "metadata": {
        "id": "cZQk-Ti-8phq",
        "colab_type": "code",
        "colab": {}
      },
      "cell_type": "code",
      "source": [
        "Seq2SeqModel.__build_decoder = classmethod(build_decoder)"
      ],
      "execution_count": 0,
      "outputs": []
    },
    {
      "metadata": {
        "id": "781wV8Yp8pht",
        "colab_type": "text"
      },
      "cell_type": "markdown",
      "source": [
        "In this task we will use [sequence_loss](https://www.tensorflow.org/api_docs/python/tf/contrib/seq2seq/sequence_loss), which is a weighted cross-entropy loss for a sequence of logits. Take a moment to understand, what is your train logits and targets. Also note, that we do not want to take into account loss terms coming from padding symbols, so we will mask them out using weights.  "
      ]
    },
    {
      "metadata": {
        "id": "FuxiJpdR8phu",
        "colab_type": "code",
        "colab": {}
      },
      "cell_type": "code",
      "source": [
        "def compute_loss(self):\n",
        "    \"\"\"Computes sequence loss (masked cross-entopy loss with logits).\"\"\"\n",
        "    \n",
        "    weights = tf.cast(tf.sequence_mask(self.ground_truth_lengths), dtype=tf.float32)\n",
        "    \n",
        "    self.loss = tf.contrib.seq2seq.sequence_loss(self.train_outputs.rnn_output, self.ground_truth, weights)"
      ],
      "execution_count": 0,
      "outputs": []
    },
    {
      "metadata": {
        "id": "afx6BiFU8phw",
        "colab_type": "code",
        "colab": {}
      },
      "cell_type": "code",
      "source": [
        "Seq2SeqModel.__compute_loss = classmethod(compute_loss)"
      ],
      "execution_count": 0,
      "outputs": []
    },
    {
      "metadata": {
        "id": "aZcUwjue8ph0",
        "colab_type": "text"
      },
      "cell_type": "markdown",
      "source": [
        "The last thing to specify is the optimization of the defined loss. \n",
        "We suggest that you use [optimize_loss](https://www.tensorflow.org/api_docs/python/tf/contrib/layers/optimize_loss) with Adam optimizer and a learning rate from the corresponding placeholder. You might also need to pass global step (e.g. as tf.train.get_global_step()) and clip gradients by 1.0."
      ]
    },
    {
      "metadata": {
        "id": "0m735KU_8ph1",
        "colab_type": "code",
        "colab": {}
      },
      "cell_type": "code",
      "source": [
        "def perform_optimization(self):\n",
        "    \"\"\"Specifies train_op that optimizes self.loss.\"\"\"\n",
        "    \n",
        "    self.train_op = tf.contrib.layers.optimize_loss(self.loss, global_step = tf.train.get_global_step(),\n",
        "                                                    learning_rate = self.learning_rate_ph, optimizer='Adam')"
      ],
      "execution_count": 0,
      "outputs": []
    },
    {
      "metadata": {
        "id": "f3HDrMG88ph3",
        "colab_type": "code",
        "colab": {}
      },
      "cell_type": "code",
      "source": [
        "Seq2SeqModel.__perform_optimization = classmethod(perform_optimization)"
      ],
      "execution_count": 0,
      "outputs": []
    },
    {
      "metadata": {
        "id": "zc6jRcdo8ph4",
        "colab_type": "text"
      },
      "cell_type": "markdown",
      "source": [
        "Congratulations! You have specified all the parts of your network. You may have noticed, that we didn't deal with any real data yet, so what you have written is just recipies on how the network should function.\n",
        "Now we will put them to the constructor of our Seq2SeqModel class to use it in the next section. "
      ]
    },
    {
      "metadata": {
        "id": "W31jcY4w8ph6",
        "colab_type": "code",
        "colab": {}
      },
      "cell_type": "code",
      "source": [
        "def init_model(self, vocab_size, embeddings_size, hidden_size, \n",
        "               max_iter, start_symbol_id, end_symbol_id, padding_symbol_id):\n",
        "    \n",
        "    self.__declare_placeholders()\n",
        "    self.__create_embeddings(vocab_size, embeddings_size)\n",
        "    self.__build_encoder(hidden_size)\n",
        "    self.__build_decoder(hidden_size, vocab_size, max_iter, start_symbol_id, end_symbol_id)\n",
        "    \n",
        "    # Compute loss and back-propagate.\n",
        "    self.__compute_loss()\n",
        "    self.__perform_optimization()\n",
        "    \n",
        "    # Get predictions for evaluation.\n",
        "    self.train_predictions = self.train_outputs.sample_id\n",
        "    self.infer_predictions = self.infer_outputs.sample_id"
      ],
      "execution_count": 0,
      "outputs": []
    },
    {
      "metadata": {
        "id": "sfVkFbNH8ph8",
        "colab_type": "code",
        "colab": {}
      },
      "cell_type": "code",
      "source": [
        "Seq2SeqModel.__init__ = classmethod(init_model)"
      ],
      "execution_count": 0,
      "outputs": []
    },
    {
      "metadata": {
        "id": "IYHGwncl8ph-",
        "colab_type": "text"
      },
      "cell_type": "markdown",
      "source": [
        "## Train the network and predict output\n",
        "\n",
        "[Session.run](https://www.tensorflow.org/api_docs/python/tf/Session#run) is a point which initiates computations in the graph that we have defined. To train the network, we need to compute *self.train_op*. To predict output, we just need to compute *self.infer_predictions*. In any case, we need to feed actual data through the placeholders that we defined above. "
      ]
    },
    {
      "metadata": {
        "id": "VIeSL6s-8ph_",
        "colab_type": "code",
        "colab": {}
      },
      "cell_type": "code",
      "source": [
        "def train_on_batch(self, session, X, X_seq_len, Y, Y_seq_len, learning_rate, dropout_keep_probability):\n",
        "    feed_dict = {\n",
        "            self.input_batch: X,\n",
        "            self.input_batch_lengths: X_seq_len,\n",
        "            self.ground_truth: Y,\n",
        "            self.ground_truth_lengths: Y_seq_len,\n",
        "            self.learning_rate_ph: learning_rate,\n",
        "            self.dropout_ph: dropout_keep_probability\n",
        "        }\n",
        "    pred, loss, _ = session.run([\n",
        "            self.train_predictions,\n",
        "            self.loss,\n",
        "            self.train_op], feed_dict=feed_dict)\n",
        "    return pred, loss"
      ],
      "execution_count": 0,
      "outputs": []
    },
    {
      "metadata": {
        "id": "W1cgo5QM8piE",
        "colab_type": "code",
        "colab": {}
      },
      "cell_type": "code",
      "source": [
        "Seq2SeqModel.train_on_batch = classmethod(train_on_batch)"
      ],
      "execution_count": 0,
      "outputs": []
    },
    {
      "metadata": {
        "id": "C9GZ9hed8piH",
        "colab_type": "text"
      },
      "cell_type": "markdown",
      "source": [
        "We implemented two prediction functions: *predict_for_batch* and *predict_for_batch_with_loss*. The first one allows only to predict output for some input sequence, while the second one could compute loss because we provide also ground truth values. Both these functions might be useful since the first one could be used for predicting only, and the second one is helpful for validating results on not-training data during the training."
      ]
    },
    {
      "metadata": {
        "id": "ztmCTlTH8piI",
        "colab_type": "code",
        "colab": {}
      },
      "cell_type": "code",
      "source": [
        "def predict_for_batch(self, session, X, X_seq_len):\n",
        "    feed_dict = {\n",
        "            self.input_batch: X,\n",
        "            self.input_batch_lengths: X_seq_len,\n",
        "        }\n",
        "    pred = session.run([\n",
        "            self.infer_predictions\n",
        "        ], feed_dict=feed_dict)[0]\n",
        "    return pred\n",
        "\n",
        "def predict_for_batch_with_loss(self, session, X, X_seq_len, Y, Y_seq_len):\n",
        "    feed_dict = {\n",
        "            self.input_batch: X,\n",
        "            self.input_batch_lengths: X_seq_len,\n",
        "            self.ground_truth: Y,\n",
        "            self.ground_truth_lengths: Y_seq_len,\n",
        "        }\n",
        "    pred, loss = session.run([\n",
        "            self.infer_predictions,\n",
        "            self.loss,\n",
        "        ], feed_dict=feed_dict)\n",
        "    return pred, loss"
      ],
      "execution_count": 0,
      "outputs": []
    },
    {
      "metadata": {
        "id": "JXIx_oIT8piK",
        "colab_type": "code",
        "colab": {}
      },
      "cell_type": "code",
      "source": [
        "Seq2SeqModel.predict_for_batch = classmethod(predict_for_batch)\n",
        "Seq2SeqModel.predict_for_batch_with_loss = classmethod(predict_for_batch_with_loss)"
      ],
      "execution_count": 0,
      "outputs": []
    },
    {
      "metadata": {
        "id": "T2u9IG2O8piM",
        "colab_type": "text"
      },
      "cell_type": "markdown",
      "source": [
        "## Run your experiment\n",
        "\n",
        "Create *Seq2SeqModel* model with the following parameters:\n",
        " - *vocab_size* — number of tokens;\n",
        " - *embeddings_size* — dimension of embeddings, recommended value: 20;\n",
        " - *max_iter* — maximum number of steps in decoder, recommended value: 7;\n",
        " - *hidden_size* — size of hidden layers for RNN, recommended value: 512;\n",
        " - *start_symbol_id* — an index of the start token (`^`).\n",
        " - *end_symbol_id* — an index of the end token (`$`).\n",
        " - *padding_symbol_id* — an index of the padding token (`#`).\n",
        "\n",
        "Set hyperparameters. You might want to start with the following values and see how it works:\n",
        "- *batch_size*: 128;\n",
        "- at least 10 epochs;\n",
        "- value of *learning_rate*: 0.001\n",
        "- *dropout_keep_probability* equals to 0.5 for training (typical values for dropout probability are ranging from 0.1 to 1.0); larger values correspond smaler number of dropout units;\n",
        "- *max_len*: 20."
      ]
    },
    {
      "metadata": {
        "id": "9syk_iyv8piN",
        "colab_type": "code",
        "colab": {}
      },
      "cell_type": "code",
      "source": [
        "tf.reset_default_graph()\n",
        "\n",
        "model =  Seq2SeqModel(vocab_size = len(word2id.keys()), embeddings_size = 20, max_iter = 7,\n",
        "                     hidden_size = 512, start_symbol_id = word2id['^'], end_symbol_id = word2id['$'],\n",
        "                     padding_symbol_id = word2id['#'])\n",
        "\n",
        "batch_size = 128\n",
        "n_epochs = 10\n",
        "learning_rate = 0.001\n",
        "dropout_keep_probability = 0.5\n",
        "max_len = 20\n",
        "\n",
        "n_step = int(len(train_set) / batch_size)"
      ],
      "execution_count": 0,
      "outputs": []
    },
    {
      "metadata": {
        "id": "H-NQ8hg58piU",
        "colab_type": "text"
      },
      "cell_type": "markdown",
      "source": [
        "Finally, we are ready to run the training! A good indicator that everything works fine is decreasing loss during the training. You should account on the loss value equal to approximately 2.7 at the beginning of the training and near 1 after the 10th epoch."
      ]
    },
    {
      "metadata": {
        "id": "_KbwlX1d8piV",
        "colab_type": "code",
        "colab": {
          "base_uri": "https://localhost:8080/",
          "height": 3145
        },
        "outputId": "3b3f34a2-82e4-4eea-93ef-3e6af401f9a2"
      },
      "cell_type": "code",
      "source": [
        "session = tf.Session()\n",
        "session.run(tf.global_variables_initializer())\n",
        "            \n",
        "invalid_number_prediction_counts = []\n",
        "all_model_predictions = []\n",
        "all_ground_truth = []\n",
        "\n",
        "print('Start training... \\n')\n",
        "for epoch in range(n_epochs):  \n",
        "    random.shuffle(train_set)\n",
        "    random.shuffle(test_set)\n",
        "    \n",
        "    print('Train: epoch', epoch + 1)\n",
        "    for n_iter, (X_batch, Y_batch) in enumerate(generate_batches(train_set, batch_size=batch_size)):\n",
        "        \n",
        "        X_batch_ids, X_batch_len = batch_to_ids(X_batch, word2id, max_len)\n",
        "        Y_batch_ids, Y_batch_len = batch_to_ids(Y_batch, word2id, max_len)\n",
        "\n",
        "        \n",
        "        # prepare the data (X_batch and Y_batch) for training\n",
        "        # using function batch_to_ids\n",
        "        predictions, loss = model.train_on_batch(session, X_batch_ids, X_batch_len, Y_batch_ids, Y_batch_len, \n",
        "                                                 learning_rate, dropout_keep_probability)\n",
        "        \n",
        "        if n_iter % 200 == 0:\n",
        "            print(\"Epoch: [%d/%d], step: [%d/%d], loss: %f\" % (epoch + 1, n_epochs, n_iter + 1, n_step, loss))\n",
        "                \n",
        "    X_sent, Y_sent = next(generate_batches(test_set, batch_size=batch_size))\n",
        "    X, X_sent_len = batch_to_ids(X_sent, word2id, max_len)\n",
        "    Y, Y_sent_len = batch_to_ids(Y_sent, word2id, max_len)\n",
        "    # prepare test data (X_sent and Y_sent) for predicting \n",
        "    # quality and computing value of the loss function\n",
        "    # using function batch_to_ids\n",
        "    \n",
        "    predictions, loss = model.predict_for_batch_with_loss(session, X, X_sent_len, Y, Y_sent_len)\n",
        "    print('Test: epoch', epoch + 1, 'loss:', loss,)\n",
        "    for x, y, p  in list(zip(X, Y, predictions))[:3]:\n",
        "        print('X:',''.join(ids_to_sentence(x, id2word)))\n",
        "        print('Y:',''.join(ids_to_sentence(y, id2word)))\n",
        "        print('O:',''.join(ids_to_sentence(p, id2word)))\n",
        "        print('')\n",
        "\n",
        "    model_predictions = []\n",
        "    ground_truth = []\n",
        "    invalid_number_prediction_count = 0\n",
        "    # For the whole test set calculate ground-truth values (as integer numbers)\n",
        "    # and prediction values (also as integers) to calculate metrics.\n",
        "    # If generated by model number is not correct (e.g. '1-1'), \n",
        "    # increase invalid_number_prediction_count and don't append this and corresponding\n",
        "    # ground-truth value to the arrays.\n",
        "    for X_batch, Y_batch in generate_batches(test_set, batch_size=batch_size):\n",
        "        X_batch_ids, X_batch_len = batch_to_ids(X_batch, word2id, max_len)\n",
        "        preds = model.predict_for_batch(session, X_batch_ids, X_batch_len)\n",
        "        \n",
        "        for i in range(len(preds)):\n",
        "          try:\n",
        "            model_predictions.append(int(''.join(ids_to_sentence(preds[i], id2word)).split('$')[0]))\n",
        "            ground_truth.append(int(Y_batch[i]))\n",
        "          except:\n",
        "            invalid_number_prediction_count += 1\n",
        "    \n",
        "    all_model_predictions.append(model_predictions)\n",
        "    all_ground_truth.append(ground_truth)\n",
        "    invalid_number_prediction_counts.append(invalid_number_prediction_count)\n",
        "            \n",
        "print('\\n...training finished.')"
      ],
      "execution_count": 0,
      "outputs": [
        {
          "output_type": "stream",
          "text": [
            "Start training... \n",
            "\n",
            "Train: epoch 1\n",
            "Epoch: [1/10], step: [1/625], loss: 2.714866\n",
            "Epoch: [1/10], step: [201/625], loss: 1.741491\n",
            "Epoch: [1/10], step: [401/625], loss: 1.652112\n",
            "Epoch: [1/10], step: [601/625], loss: 1.500737\n",
            "Test: epoch 1 loss: 1.4889109\n",
            "X: 674-1579$#\n",
            "Y: -905$#\n",
            "O: -107$#\n",
            "\n",
            "X: 8734+2395$\n",
            "Y: 11129$\n",
            "O: 11447$\n",
            "\n",
            "X: 6013+1096$\n",
            "Y: 7109$#\n",
            "O: 6122$#\n",
            "\n",
            "Train: epoch 2\n",
            "Epoch: [2/10], step: [1/625], loss: 1.465759\n",
            "Epoch: [2/10], step: [201/625], loss: 1.398006\n",
            "Epoch: [2/10], step: [401/625], loss: 1.320225\n",
            "Epoch: [2/10], step: [601/625], loss: 1.334796\n",
            "Test: epoch 2 loss: 1.2667681\n",
            "X: 3711+6718$\n",
            "Y: 10429$\n",
            "O: 10088$\n",
            "\n",
            "X: 8578+189$#\n",
            "Y: 8767$#\n",
            "O: 8555$#\n",
            "\n",
            "X: 1155+2729$\n",
            "Y: 3884$#\n",
            "O: 4008$#\n",
            "\n",
            "Train: epoch 3\n",
            "Epoch: [3/10], step: [1/625], loss: 1.273367\n",
            "Epoch: [3/10], step: [201/625], loss: 1.280415\n",
            "Epoch: [3/10], step: [401/625], loss: 1.180957\n",
            "Epoch: [3/10], step: [601/625], loss: 1.206192\n",
            "Test: epoch 3 loss: 1.2059854\n",
            "X: 7976+1733$\n",
            "Y: 9709$#\n",
            "O: 9614$#\n",
            "\n",
            "X: 3135+3530$\n",
            "Y: 6665$#\n",
            "O: 6884$#\n",
            "\n",
            "X: 4521+770$#\n",
            "Y: 5291$#\n",
            "O: 5234$#\n",
            "\n",
            "Train: epoch 4\n",
            "Epoch: [4/10], step: [1/625], loss: 1.218224\n",
            "Epoch: [4/10], step: [201/625], loss: 1.175624\n",
            "Epoch: [4/10], step: [401/625], loss: 1.112526\n",
            "Epoch: [4/10], step: [601/625], loss: 1.128824\n",
            "Test: epoch 4 loss: 1.1377968\n",
            "X: 2101-6215$\n",
            "Y: -4114$\n",
            "O: -4169$\n",
            "\n",
            "X: 4461-3368$\n",
            "Y: 1093$#\n",
            "O: 1089$#\n",
            "\n",
            "X: 5595-6214$\n",
            "Y: -619$#\n",
            "O: -608$#\n",
            "\n",
            "Train: epoch 5\n",
            "Epoch: [5/10], step: [1/625], loss: 1.131613\n",
            "Epoch: [5/10], step: [201/625], loss: 1.188200\n",
            "Epoch: [5/10], step: [401/625], loss: 1.110881\n",
            "Epoch: [5/10], step: [601/625], loss: 1.106591\n",
            "Test: epoch 5 loss: 1.1134881\n",
            "X: 6174+4882$\n",
            "Y: 11056$\n",
            "O: 11111$\n",
            "\n",
            "X: 8901-2916$\n",
            "Y: 5985$#\n",
            "O: 5973$#\n",
            "\n",
            "X: 450+7800$#\n",
            "Y: 8250$#\n",
            "O: 8233$#\n",
            "\n",
            "Train: epoch 6\n",
            "Epoch: [6/10], step: [1/625], loss: 1.099025\n",
            "Epoch: [6/10], step: [201/625], loss: 1.093595\n",
            "Epoch: [6/10], step: [401/625], loss: 1.132211\n",
            "Epoch: [6/10], step: [601/625], loss: 1.069024\n",
            "Test: epoch 6 loss: 1.1049522\n",
            "X: 2461-6622$\n",
            "Y: -4161$\n",
            "O: -4099$\n",
            "\n",
            "X: 6044-4595$\n",
            "Y: 1449$#\n",
            "O: 1461$#\n",
            "\n",
            "X: 1139-1283$\n",
            "Y: -144$#\n",
            "O: -118$#\n",
            "\n",
            "Train: epoch 7\n",
            "Epoch: [7/10], step: [1/625], loss: 1.128407\n",
            "Epoch: [7/10], step: [201/625], loss: 1.047828\n",
            "Epoch: [7/10], step: [401/625], loss: 1.132366\n",
            "Epoch: [7/10], step: [601/625], loss: 1.045802\n",
            "Test: epoch 7 loss: 1.0519439\n",
            "X: 4898-8140$\n",
            "Y: -3242$\n",
            "O: -3252$\n",
            "\n",
            "X: 5657+4005$\n",
            "Y: 9662$#\n",
            "O: 9680$#\n",
            "\n",
            "X: 542-8664$#\n",
            "Y: -8122$\n",
            "O: -8050$\n",
            "\n",
            "Train: epoch 8\n",
            "Epoch: [8/10], step: [1/625], loss: 1.012977\n",
            "Epoch: [8/10], step: [201/625], loss: 1.057999\n",
            "Epoch: [8/10], step: [401/625], loss: 1.130586\n",
            "Epoch: [8/10], step: [601/625], loss: 1.061047\n",
            "Test: epoch 8 loss: 1.0304725\n",
            "X: 4685-1678$\n",
            "Y: 3007$#\n",
            "O: 3000$#\n",
            "\n",
            "X: 7665-9101$\n",
            "Y: -1436$\n",
            "O: -1447$\n",
            "\n",
            "X: 9681+7618$\n",
            "Y: 17299$\n",
            "O: 17199$\n",
            "\n",
            "Train: epoch 9\n",
            "Epoch: [9/10], step: [1/625], loss: 1.018934\n",
            "Epoch: [9/10], step: [201/625], loss: 1.016289\n",
            "Epoch: [9/10], step: [401/625], loss: 1.036567\n",
            "Epoch: [9/10], step: [601/625], loss: 1.049089\n",
            "Test: epoch 9 loss: 1.0352358\n",
            "X: 4674-7062$\n",
            "Y: -2388$\n",
            "O: -2333$\n",
            "\n",
            "X: 9134-2193$\n",
            "Y: 6941$#\n",
            "O: 6944$#\n",
            "\n",
            "X: 7745-679$#\n",
            "Y: 7066$#\n",
            "O: 7188$#\n",
            "\n",
            "Train: epoch 10\n",
            "Epoch: [10/10], step: [1/625], loss: 1.029112\n",
            "Epoch: [10/10], step: [201/625], loss: 1.063660\n",
            "Epoch: [10/10], step: [401/625], loss: 1.062016\n",
            "Epoch: [10/10], step: [601/625], loss: 0.977734\n",
            "Test: epoch 10 loss: 1.1018931\n",
            "X: 4299+6377$\n",
            "Y: 10676$\n",
            "O: 10702$\n",
            "\n",
            "X: 133+3056$#\n",
            "Y: 3189$#\n",
            "O: 3230$#\n",
            "\n",
            "X: 4659+8453$\n",
            "Y: 13112$\n",
            "O: 13194$\n",
            "\n",
            "\n",
            "...training finished.\n"
          ],
          "name": "stdout"
        }
      ]
    },
    {
      "metadata": {
        "id": "ODVM6E4M8piY",
        "colab_type": "text"
      },
      "cell_type": "markdown",
      "source": [
        "## Evaluate results\n",
        "\n",
        "Because our task is simple and the output is straight-forward, we will use [MAE](https://en.wikipedia.org/wiki/Mean_absolute_error) metric to evaluate the trained model during the epochs. Compute the value of the metric for the output from each epoch."
      ]
    },
    {
      "metadata": {
        "id": "EUuAwT128piY",
        "colab_type": "code",
        "colab": {}
      },
      "cell_type": "code",
      "source": [
        "from sklearn.metrics import mean_absolute_error"
      ],
      "execution_count": 0,
      "outputs": []
    },
    {
      "metadata": {
        "id": "NO-HLWEa8piZ",
        "colab_type": "code",
        "colab": {
          "base_uri": "https://localhost:8080/",
          "height": 187
        },
        "outputId": "95b5693f-627c-48fc-fbf2-b79b01b47a96"
      },
      "cell_type": "code",
      "source": [
        "for i, (gts, predictions, invalid_number_prediction_count) in enumerate(zip(all_ground_truth,\n",
        "                                                                            all_model_predictions,\n",
        "                                                                            invalid_number_prediction_counts), 1):\n",
        "    mae = mean_absolute_error(gts, predictions)\n",
        "    print(\"Epoch: %i, MAE: %f, Invalid numbers: %i\" % (i, mae, invalid_number_prediction_count))"
      ],
      "execution_count": 0,
      "outputs": [
        {
          "output_type": "stream",
          "text": [
            "Epoch: 1, MAE: 579.057900, Invalid numbers: 0\n",
            "Epoch: 2, MAE: 194.175750, Invalid numbers: 0\n",
            "Epoch: 3, MAE: 136.353750, Invalid numbers: 0\n",
            "Epoch: 4, MAE: 85.422700, Invalid numbers: 0\n",
            "Epoch: 5, MAE: 82.966000, Invalid numbers: 0\n",
            "Epoch: 6, MAE: 78.117650, Invalid numbers: 0\n",
            "Epoch: 7, MAE: 54.343300, Invalid numbers: 0\n",
            "Epoch: 8, MAE: 53.064650, Invalid numbers: 0\n",
            "Epoch: 9, MAE: 56.849050, Invalid numbers: 0\n",
            "Epoch: 10, MAE: 69.159150, Invalid numbers: 0\n"
          ],
          "name": "stdout"
        }
      ]
    },
    {
      "metadata": {
        "id": "OTVOA-nGaN8-",
        "colab_type": "code",
        "colab": {}
      },
      "cell_type": "code",
      "source": [
        ""
      ],
      "execution_count": 0,
      "outputs": []
    }
  ]
}